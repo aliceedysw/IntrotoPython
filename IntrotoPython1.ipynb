{
  "nbformat": 4,
  "nbformat_minor": 0,
  "metadata": {
    "colab": {
      "provenance": []
    },
    "kernelspec": {
      "name": "python3",
      "display_name": "Python 3"
    },
    "language_info": {
      "name": "python"
    }
  },
  "cells": [
    {
      "cell_type": "markdown",
      "source": [
        "# Welcome to Intro to Python Session 1!"
      ],
      "metadata": {
        "id": "Eg7dNFMbt5ZN"
      }
    },
    {
      "cell_type": "markdown",
      "source": [
        "Hi I'm Alice and I'm here to support you with learning the basics of Python. If you find it difficult, you can ask me for help in person in our sessions or by email at alice.eddyshaw@postgrad.manchester.ac.uk. If you find it too easy that's fine, you can leave at any time and come back next week if you like. If you don't need to come back, that's fine; you are ready for Colin and Dmitry's sessions.\n",
        "\n",
        "You may remember a bit about Python from sessions with Colin. You covered a little bit about what Python is, variables, datatypes, functions, lists, loading data and regular expressions.\n",
        "\n",
        "In this session today, we'll cover basic datatypes, printing, basic operations and container types."
      ],
      "metadata": {
        "id": "NTp-5nCBuEuz"
      }
    },
    {
      "cell_type": "markdown",
      "source": [
        "\n",
        "\n",
        "---\n",
        "\n",
        "\n"
      ],
      "metadata": {
        "id": "fMYkCHFOwzF7"
      }
    },
    {
      "cell_type": "markdown",
      "source": [
        "First let's try using the **print** function which is built into python."
      ],
      "metadata": {
        "id": "J_SLbAVpys0L"
      }
    },
    {
      "cell_type": "code",
      "source": [
        "print(\"Hello world!\")"
      ],
      "metadata": {
        "id": "IlGJ3b-Py0sN"
      },
      "execution_count": null,
      "outputs": []
    },
    {
      "cell_type": "markdown",
      "source": [
        "Your turn, make a different phrase print."
      ],
      "metadata": {
        "id": "ub4KeKl2y9ys"
      }
    },
    {
      "cell_type": "code",
      "source": [],
      "metadata": {
        "id": "adzQog-jy8-a"
      },
      "execution_count": null,
      "outputs": []
    },
    {
      "cell_type": "markdown",
      "source": [
        "Which bits of punctuation are needed to make it work?"
      ],
      "metadata": {
        "id": "Jdl9oZfpzBf0"
      }
    },
    {
      "cell_type": "code",
      "source": [
        "print(Hello world!)"
      ],
      "metadata": {
        "id": "Uztea9S1zYqG"
      },
      "execution_count": null,
      "outputs": []
    },
    {
      "cell_type": "code",
      "source": [
        "print(3)"
      ],
      "metadata": {
        "id": "5sdjYTAKzgmH"
      },
      "execution_count": null,
      "outputs": []
    },
    {
      "cell_type": "markdown",
      "source": [
        "Why did it work to print the number 3?\n",
        "\n",
        "There are a number of different **datatypes** in Python. Python automatically recognises values as different types but sometimes it gets it 'wrong' or doesn't recognise the data as the type that you hoped or assumed it would. Python treats values of different types differently. The quote marks were required to tell Python that \"Hello world!\" is a string.\n",
        "\n",
        "Some of the basic ones are:\n",
        "int = integers (e.g. 5, -10, 1200)\n",
        "\n",
        "float = decimal numbers (e.g. 3.5674, -0.3573, 1.0)\n",
        "\n",
        "str = string, a string of text (e.g. \"Hello world!\", \"Alice Eddyshaw\" or \"Siri, put bread on my shopping list.\"\n",
        "Even a number can be a string (\"4\") but then Python will use it as a string, not an integer e.g. it won't add it, subtract it or include it in a mean.\n",
        "\n",
        "bool = booleans, logical values (i.e. True or False)\n",
        "\n",
        "NoneType = no value (i.e. None)\n",
        "\n",
        "A number like 3 is automatically recognised as an integer (int) and so it doesn't need the quote marks \"\" that a string like \"Hello world!\" needs in order to print.\n",
        "\n",
        "Let's test this out."
      ],
      "metadata": {
        "id": "zQRQfVhezhhJ"
      }
    },
    {
      "cell_type": "code",
      "source": [
        "print(True)"
      ],
      "metadata": {
        "id": "0THGua1L0f1K"
      },
      "execution_count": null,
      "outputs": []
    },
    {
      "cell_type": "code",
      "source": [
        "print(-0.4876)"
      ],
      "metadata": {
        "id": "TMgmESeH0h9h"
      },
      "execution_count": null,
      "outputs": []
    },
    {
      "cell_type": "code",
      "source": [],
      "metadata": {
        "id": "Pr-ZBAke0mhm"
      },
      "execution_count": null,
      "outputs": []
    },
    {
      "cell_type": "code",
      "source": [],
      "metadata": {
        "id": "uYOaoUr80m2N"
      },
      "execution_count": null,
      "outputs": []
    },
    {
      "cell_type": "markdown",
      "source": [
        "Now let's create some variables. You can store a value in a variable. That can be a value of any type.\n",
        "\n",
        "Then, even if the name of a variable is text and looks like a string, python will know it's the name of a variable and will treat it as the type that is the type of the data you stored inside it.\n",
        "\n",
        "(It's best not to use spaces in your variable names as that can mess things up)"
      ],
      "metadata": {
        "id": "yWTt92my0rH0"
      }
    },
    {
      "cell_type": "code",
      "source": [
        "a = 3\n",
        "b = \"Hello\"\n",
        "c = 25.654\n",
        "d = 0.5\n",
        "e = \"4\""
      ],
      "metadata": {
        "id": "5l3wtBAo065m"
      },
      "execution_count": null,
      "outputs": []
    },
    {
      "cell_type": "code",
      "source": [
        "print(a+c)"
      ],
      "metadata": {
        "id": "2-j__igN1DV-"
      },
      "execution_count": null,
      "outputs": []
    },
    {
      "cell_type": "code",
      "source": [
        "print(a-b)"
      ],
      "metadata": {
        "id": "dZHKnuOs1G3W"
      },
      "execution_count": null,
      "outputs": []
    },
    {
      "cell_type": "markdown",
      "source": [
        "It comes up with a type error. See if you can make some more type errors come up."
      ],
      "metadata": {
        "id": "dmkIctKa1Ncu"
      }
    },
    {
      "cell_type": "code",
      "source": [],
      "metadata": {
        "id": "J5IV5psy1JCD"
      },
      "execution_count": null,
      "outputs": []
    },
    {
      "cell_type": "code",
      "source": [],
      "metadata": {
        "id": "y2wcVG1c1P5e"
      },
      "execution_count": null,
      "outputs": []
    },
    {
      "cell_type": "code",
      "source": [],
      "metadata": {
        "id": "vqurdSaR1PsG"
      },
      "execution_count": null,
      "outputs": []
    },
    {
      "cell_type": "markdown",
      "source": [
        "Create a variable f and a variable g such that you can make a sum using f and g where the answer to that sum is 50. Then ask python to perform that sum."
      ],
      "metadata": {
        "id": "KeE0oeD21VSo"
      }
    },
    {
      "cell_type": "code",
      "source": [],
      "metadata": {
        "id": "nGh6RxjV1V1M"
      },
      "execution_count": null,
      "outputs": []
    },
    {
      "cell_type": "code",
      "source": [],
      "metadata": {
        "id": "vlY6lvqz1Xrw"
      },
      "execution_count": null,
      "outputs": []
    },
    {
      "cell_type": "markdown",
      "source": [
        "Let's do some more sums. You can use these symbols to create sums with numerical variables: + (addition), - (subtraction/deletion), * (multiplication), / (division),\n",
        "// (integer division), % (modulus / remainder), ** (power)."
      ],
      "metadata": {
        "id": "IELQ7RgULXjO"
      }
    },
    {
      "cell_type": "code",
      "source": [],
      "metadata": {
        "id": "X5VLEcsuLl83"
      },
      "execution_count": null,
      "outputs": []
    },
    {
      "cell_type": "code",
      "source": [],
      "metadata": {
        "id": "NJVGOPuGMWB3"
      },
      "execution_count": null,
      "outputs": []
    },
    {
      "cell_type": "code",
      "source": [
        "print(124//5) # integer division which doesn't automatically show the remainder\n",
        "print(124%5) # operation to show the remainder"
      ],
      "metadata": {
        "id": "YURzrQ0sMWkH"
      },
      "execution_count": null,
      "outputs": []
    },
    {
      "cell_type": "code",
      "source": [],
      "metadata": {
        "id": "eVS_KXCyMW9p"
      },
      "execution_count": null,
      "outputs": []
    },
    {
      "cell_type": "code",
      "source": [],
      "metadata": {
        "id": "ilT-UbIMM4c0"
      },
      "execution_count": null,
      "outputs": []
    },
    {
      "cell_type": "markdown",
      "source": [
        "As we know, integers and floats are both numerical types. Let's look at what types the results of sums using them are.\n"
      ],
      "metadata": {
        "id": "M8ipd_0lNbqR"
      }
    },
    {
      "cell_type": "code",
      "source": [
        "az = 2 + 3\n",
        "print(az)\n",
        "print(type(az))\n",
        "ay = 2 + 3.0\n",
        "print(ay)\n",
        "print(type(ay))"
      ],
      "metadata": {
        "id": "Q2HfO2uzOAmO"
      },
      "execution_count": null,
      "outputs": []
    },
    {
      "cell_type": "markdown",
      "source": [
        "int + int → int\n",
        "\n",
        "int + float → float\n",
        "\n",
        "float + float → float\n",
        "\n",
        "The same goes for subtraction."
      ],
      "metadata": {
        "id": "TVc0wrdcYrVY"
      }
    },
    {
      "cell_type": "markdown",
      "source": [
        "int * int → int\n",
        "\n",
        "int * float → float\n",
        "\n",
        "float * float → float"
      ],
      "metadata": {
        "id": "8bCVMhHrYswk"
      }
    },
    {
      "cell_type": "markdown",
      "source": [
        "Division always returns a float, even if the result is exact. But integer divison returns an integer if both operands are integer and a float if either operand is float."
      ],
      "metadata": {
        "id": "A03Obdz5bEtO"
      }
    },
    {
      "cell_type": "markdown",
      "source": [
        "int % int → int\n",
        "\n",
        "int % float → float"
      ],
      "metadata": {
        "id": "BNukVTSCbZEB"
      }
    },
    {
      "cell_type": "markdown",
      "source": [
        "For power, if both are integers and the exponent (power) is non-negative, the result is an integer. Otherwise, result is float."
      ],
      "metadata": {
        "id": "MNPCyaklbqc6"
      }
    },
    {
      "cell_type": "markdown",
      "source": [
        "You can try it out a bit here."
      ],
      "metadata": {
        "id": "iOey6sNJb6Ki"
      }
    },
    {
      "cell_type": "code",
      "source": [],
      "metadata": {
        "id": "RRtHXsA9X6Uc"
      },
      "execution_count": null,
      "outputs": []
    },
    {
      "cell_type": "code",
      "source": [],
      "metadata": {
        "id": "0XhlHAHNX6Bk"
      },
      "execution_count": null,
      "outputs": []
    },
    {
      "cell_type": "markdown",
      "source": [
        "You can use a \"+\" to concatenate two strings. Combine the variable, m, below with your name and print the full sentence. You can either print the code which creates the full sentence or save the full sentence to a new variable and print that new variable."
      ],
      "metadata": {
        "id": "cHpEPh0B2DMz"
      }
    },
    {
      "cell_type": "code",
      "source": [
        "m = \"My name is\""
      ],
      "metadata": {
        "id": "xpqjZgDA2F9t"
      },
      "execution_count": null,
      "outputs": []
    },
    {
      "cell_type": "code",
      "source": [],
      "metadata": {
        "id": "2Zs-W4UA2FOh"
      },
      "execution_count": null,
      "outputs": []
    },
    {
      "cell_type": "code",
      "source": [],
      "metadata": {
        "id": "7HsSazgf1rfS"
      },
      "execution_count": null,
      "outputs": []
    },
    {
      "cell_type": "markdown",
      "source": [
        "Notice how you cannot use \"-\" in the same way with strings?"
      ],
      "metadata": {
        "id": "wX02LRPx3y58"
      }
    },
    {
      "cell_type": "code",
      "source": [],
      "metadata": {
        "id": "wMBDtvql34KT"
      },
      "execution_count": null,
      "outputs": []
    },
    {
      "cell_type": "markdown",
      "source": [
        "You can also change the datatype of a variable."
      ],
      "metadata": {
        "id": "_dkP_-Na4s1C"
      }
    },
    {
      "cell_type": "code",
      "source": [
        "r = 10\n",
        "s = \"6.12\""
      ],
      "metadata": {
        "id": "kUuIXcmM44ZE"
      },
      "execution_count": null,
      "outputs": []
    },
    {
      "cell_type": "code",
      "source": [
        "print(r - s)"
      ],
      "metadata": {
        "id": "_ofK4nkL5JcC"
      },
      "execution_count": null,
      "outputs": []
    },
    {
      "cell_type": "code",
      "source": [
        "print(r - float(s))"
      ],
      "metadata": {
        "id": "cgI-rMcn5Pmk"
      },
      "execution_count": null,
      "outputs": []
    },
    {
      "cell_type": "markdown",
      "source": [
        "Make a calculation using the variables a and e from above. You'll need to change a datatype."
      ],
      "metadata": {
        "id": "wAWHAVvD5eMl"
      }
    },
    {
      "cell_type": "code",
      "source": [],
      "metadata": {
        "id": "73eVOF0s6BWq"
      },
      "execution_count": null,
      "outputs": []
    },
    {
      "cell_type": "markdown",
      "source": [
        "Let's look at some **basic functions** now. The functions we'll use today will all be built-in but others will require additional packages. An example of a package is 're' when you used 'import re' with Colin.\n",
        "\n",
        "Above, we used print() and float(), and you may have used int(). And in the session with Colin you used str.capitalize() and str.upper().\n",
        "\n",
        "The (curved) brackets used with functions are an important part of Python's syntax."
      ],
      "metadata": {
        "id": "2Czr3JFb6Crr"
      }
    },
    {
      "cell_type": "markdown",
      "source": [
        "If you're not sure what type Python currently \"thinks\" a piece of data is, you can use the function type(). Try it out here on some of the variables we created above."
      ],
      "metadata": {
        "id": "9-omF4B_coGg"
      }
    },
    {
      "cell_type": "code",
      "source": [],
      "metadata": {
        "id": "qtY8gzR_69hU"
      },
      "execution_count": null,
      "outputs": []
    },
    {
      "cell_type": "markdown",
      "source": [
        "You can use round(x, n) to round a number, x to n decimal places. You can use this on floats, for example. We refer to the things (x and n here) a function requires as arguments, so round() requires two arguments while print() only requires one. Try round() out here on a number, variable or sum."
      ],
      "metadata": {
        "id": "YBu6aqj0c6ly"
      }
    },
    {
      "cell_type": "code",
      "source": [],
      "metadata": {
        "id": "tIPfuXlidpTJ"
      },
      "execution_count": null,
      "outputs": []
    },
    {
      "cell_type": "markdown",
      "source": [
        "There's a lot more you can do though if you have multiple pieces of data stored within one **container**. There are a number of different types of container too."
      ],
      "metadata": {
        "id": "0ZKT3ww5eF2a"
      }
    },
    {
      "cell_type": "markdown",
      "source": [
        "A list is an ordered, mutable sequence (for which square brackets are used)."
      ],
      "metadata": {
        "id": "NV3yr7ZtIbWZ"
      }
    },
    {
      "cell_type": "code",
      "source": [
        "list1 = [1, 2, 3]"
      ],
      "metadata": {
        "id": "wnMPyVFJId5q"
      },
      "execution_count": null,
      "outputs": []
    },
    {
      "cell_type": "markdown",
      "source": [
        "On the other hand, a tuple is an ordered, immutable sequence (for which round brackets are used)."
      ],
      "metadata": {
        "id": "nYgu2I8ZLxIt"
      }
    },
    {
      "cell_type": "code",
      "source": [
        "tuple1 = (1, 2, 3)"
      ],
      "metadata": {
        "id": "2MMyXejkL8aS"
      },
      "execution_count": null,
      "outputs": []
    },
    {
      "cell_type": "markdown",
      "source": [
        "A set contains unordered, unique elements. For a set, curly brackets are used. As you can see below, these can still be elements that you, as a human, know have an obvious order"
      ],
      "metadata": {
        "id": "ShRSI1x_JLqu"
      }
    },
    {
      "cell_type": "code",
      "source": [
        "set1 = {1, 2, 3}"
      ],
      "metadata": {
        "id": "p8bAq1OMJS36"
      },
      "execution_count": null,
      "outputs": []
    },
    {
      "cell_type": "markdown",
      "source": [
        "A dictionary (dict) contains a number of paired values. A dictionary uses the following syntax (wth the following punctuation). Imagine the following are names of students and their test scores."
      ],
      "metadata": {
        "id": "-5No6ozPJE4z"
      }
    },
    {
      "cell_type": "code",
      "source": [
        "dict1 = [\n",
        "    {\"name\": \"Abby\", \"score\": 25},\n",
        "    {\"name\": \"Bob\",   \"score\": 23},\n",
        "    {\"name\": \"Carol\", \"score\": 28}\n",
        "]"
      ],
      "metadata": {
        "id": "ob_OILLxKJe2"
      },
      "execution_count": null,
      "outputs": []
    },
    {
      "cell_type": "markdown",
      "source": [
        "Let's see how these containers work when we use them to contain the data found in a(n unpunctuated) sentence."
      ],
      "metadata": {
        "id": "IYeJZ59cMsJi"
      }
    },
    {
      "cell_type": "code",
      "source": [
        "sentence1 = \"the quick brown fox jumped over the lazy dog\""
      ],
      "metadata": {
        "id": "UG_8IMiAM8Xu"
      },
      "execution_count": null,
      "outputs": []
    },
    {
      "cell_type": "code",
      "source": [
        "words = sentence1.split()\n",
        "print(words)"
      ],
      "metadata": {
        "id": "zX-Ir-T1NcR9"
      },
      "execution_count": null,
      "outputs": []
    },
    {
      "cell_type": "markdown",
      "source": [
        "You can use the type() function on the container: words to check which type of container it is."
      ],
      "metadata": {
        "id": "U0V9Tli9PAwm"
      }
    },
    {
      "cell_type": "code",
      "source": [
        "type(words)"
      ],
      "metadata": {
        "id": "B0MpJzkROaJW"
      },
      "execution_count": null,
      "outputs": []
    },
    {
      "cell_type": "markdown",
      "source": [
        "Since a list is mutable, you can append a data value, for example you may want to append a word here."
      ],
      "metadata": {
        "id": "2rMiKPmKtzhC"
      }
    },
    {
      "cell_type": "code",
      "source": [
        "words.append(\"speedily\")\n",
        "print(words)"
      ],
      "metadata": {
        "id": "OaabFy2tt-R_"
      },
      "execution_count": null,
      "outputs": []
    },
    {
      "cell_type": "markdown",
      "source": [
        "Tuples, however are immutable so you can't do the same for a tuple, try to add another word to the end of the sentence contained in the tuple below."
      ],
      "metadata": {
        "id": "3SLGoXTNPO8h"
      }
    },
    {
      "cell_type": "code",
      "source": [
        "words_tuple = tuple(words)\n",
        "print(words_tuple)"
      ],
      "metadata": {
        "id": "jyYyUWsVPPXM"
      },
      "execution_count": null,
      "outputs": []
    },
    {
      "cell_type": "code",
      "source": [],
      "metadata": {
        "id": "IOQzCIAWu1fw"
      },
      "execution_count": null,
      "outputs": []
    },
    {
      "cell_type": "markdown",
      "source": [
        "Since sets don't have a particular order, the order of the sentence is not saved."
      ],
      "metadata": {
        "id": "6567MWhpu3_B"
      }
    },
    {
      "cell_type": "code",
      "source": [
        "words_set = set(words)\n",
        "print(words_set)"
      ],
      "metadata": {
        "id": "qaxaL0uLvHAp"
      },
      "execution_count": null,
      "outputs": []
    },
    {
      "cell_type": "markdown",
      "source": [
        "What is missing from the words when they are stored in a set vs a list or tuple?"
      ],
      "metadata": {
        "id": "hpdtrPj4vZuW"
      }
    },
    {
      "cell_type": "markdown",
      "source": [
        "Sets can be useful for getting a quick list of unique items, though this is also possible in other ways."
      ],
      "metadata": {
        "id": "FGbP-woCwhPx"
      }
    },
    {
      "cell_type": "markdown",
      "source": [
        "Lists can be concatenated using + too"
      ],
      "metadata": {
        "id": "DHUasSbycpp6"
      }
    },
    {
      "cell_type": "code",
      "source": [
        "sentence2 = \"the cat sat on the mat\"\n",
        "words2 = sentence2.split()\n",
        "print(words2)\n",
        "words1_2 = words + words2\n",
        "print(words1_2)"
      ],
      "metadata": {
        "id": "4slyYpp3cpAs"
      },
      "execution_count": null,
      "outputs": []
    },
    {
      "cell_type": "markdown",
      "source": [
        "You can multiply lists - even if their contents are strings."
      ],
      "metadata": {
        "id": "hOCdzB-Adtpu"
      }
    },
    {
      "cell_type": "code",
      "source": [
        "words_x5 = words * 5\n",
        "print(words_x5)"
      ],
      "metadata": {
        "id": "QiRK0MT9dbH8"
      },
      "execution_count": null,
      "outputs": []
    },
    {
      "cell_type": "markdown",
      "source": [
        "Try making two lists of strings and concatenating them."
      ],
      "metadata": {
        "id": "CYZmpYGAeG3m"
      }
    },
    {
      "cell_type": "code",
      "source": [],
      "metadata": {
        "id": "MKAlvImIeGhk"
      },
      "execution_count": null,
      "outputs": []
    },
    {
      "cell_type": "code",
      "source": [],
      "metadata": {
        "id": "xh4-EUlneHRb"
      },
      "execution_count": null,
      "outputs": []
    },
    {
      "cell_type": "markdown",
      "source": [
        "Lastly for this brief look at containers, dictionaries: Here, I'm going to pair each word in the list 'words' with its position in the linear order of the sentence."
      ],
      "metadata": {
        "id": "IvO5BaI4w_Sf"
      }
    },
    {
      "cell_type": "markdown",
      "source": [
        "Here we'll use 'for loops' but don't worry, we'll look at these in the next session. For now, a 'for loop' says to Python 'Go through each item in a collection, one by one, and do something with it'."
      ],
      "metadata": {
        "id": "Kym_NO-LeUsz"
      }
    },
    {
      "cell_type": "code",
      "source": [
        "word_positions_dict = {word: i for i, word in enumerate(words, start=1)}\n",
        "print(word_positions_dict)\n"
      ],
      "metadata": {
        "id": "v7aA6WPgweiu"
      },
      "execution_count": null,
      "outputs": []
    },
    {
      "cell_type": "markdown",
      "source": [
        "However, notice what happens with 'the'. To fix that, I'm going to store the positions as a list within the dictionary in case of duplicates. See also that this method uses append which we used above."
      ],
      "metadata": {
        "id": "zwRyM4ohyDJU"
      }
    },
    {
      "cell_type": "code",
      "source": [
        "from collections import defaultdict\n",
        "\n",
        "word_positions_dict_2 = defaultdict(list)\n",
        "for i, word in enumerate(words, start=1):\n",
        "    word_positions_dict_2[word].append(i)\n",
        "\n",
        "print(dict(word_positions_dict_2))\n"
      ],
      "metadata": {
        "id": "uOpRhHQGyMj1"
      },
      "execution_count": null,
      "outputs": []
    },
    {
      "cell_type": "markdown",
      "source": [
        "As the last exercise today, store a collection of words from a sentence (imagine it was a Tweet from a corpus you were studying, for example) in a container. Add a word on the end of the sequence of words, then create a dictionary of the positions of the words, accounting for any duplicates."
      ],
      "metadata": {
        "id": "woHJ0TWuzY7-"
      }
    },
    {
      "cell_type": "code",
      "source": [],
      "metadata": {
        "id": "opAui-OL0IvT"
      },
      "execution_count": null,
      "outputs": []
    },
    {
      "cell_type": "code",
      "source": [],
      "metadata": {
        "id": "rDCNczv_zYXr"
      },
      "execution_count": null,
      "outputs": []
    },
    {
      "cell_type": "markdown",
      "source": [
        "Thank you! I hope today helped you with your Python."
      ],
      "metadata": {
        "id": "6Hjfy_dr0KQB"
      }
    }
  ]
}