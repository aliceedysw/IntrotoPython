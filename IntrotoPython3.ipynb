{
  "nbformat": 4,
  "nbformat_minor": 0,
  "metadata": {
    "colab": {
      "provenance": []
    },
    "kernelspec": {
      "name": "python3",
      "display_name": "Python 3"
    },
    "language_info": {
      "name": "python"
    }
  },
  "cells": [
    {
      "cell_type": "markdown",
      "source": [
        "# Welcome to Intro to Python Session 3!"
      ],
      "metadata": {
        "id": "-u_Rqpwxalg9"
      }
    },
    {
      "cell_type": "markdown",
      "source": [
        "**Please create a copy of this notebook and save it to your drive.**"
      ],
      "metadata": {
        "id": "_YYztvvnap1X"
      }
    },
    {
      "cell_type": "markdown",
      "source": [
        "Session 3 - today we'll finish off working on last week's exercises, then we'll move onto this shorter notebook."
      ],
      "metadata": {
        "id": "ZAdRiNuNaT1_"
      }
    },
    {
      "cell_type": "markdown",
      "source": [
        "In this session, we'll cover functions and classes (combining functions and data)."
      ],
      "metadata": {
        "id": "teu2jKKlatP2"
      }
    },
    {
      "cell_type": "markdown",
      "source": [
        "\n",
        "\n",
        "---\n",
        "\n"
      ],
      "metadata": {
        "id": "5EZL8XzOc4ew"
      }
    },
    {
      "cell_type": "markdown",
      "source": [
        "**Functions** are blocks of reusable code that perform a specific task. We can use built-in functions as we have been doing or we can define our own.\n",
        "\n",
        "Let's **define** a function to greet people here, and use it in combination with print(), a built-in function."
      ],
      "metadata": {
        "id": "7MtighnOcfDc"
      }
    },
    {
      "cell_type": "code",
      "execution_count": null,
      "metadata": {
        "id": "dIvskiDKaRMi"
      },
      "outputs": [],
      "source": [
        "def greet(name):\n",
        "    return f\"Hello, {name}!\""
      ]
    },
    {
      "cell_type": "code",
      "source": [
        "print(greet(\"Alice\"))\n"
      ],
      "metadata": {
        "id": "VoBa8NQkc-RF"
      },
      "execution_count": null,
      "outputs": []
    },
    {
      "cell_type": "markdown",
      "source": [
        "We can combine this with a user input too."
      ],
      "metadata": {
        "id": "n9eb_-YxdFl9"
      }
    },
    {
      "cell_type": "code",
      "source": [
        "user_name = (input(\"Enter your name: \"))\n",
        "def goodbye(name):\n",
        "    return f\"Goodbye, {name}! Thank you for visiting.\"\n",
        "\n",
        "print(goodbye(user_name))"
      ],
      "metadata": {
        "id": "3fA6yILAdLet"
      },
      "execution_count": null,
      "outputs": []
    },
    {
      "cell_type": "markdown",
      "source": [
        "Write a function square(num) which returns that number squared."
      ],
      "metadata": {
        "id": "uX_GsF25d0WQ"
      }
    },
    {
      "cell_type": "code",
      "source": [],
      "metadata": {
        "id": "pr7I4t1Dd0m8"
      },
      "execution_count": null,
      "outputs": []
    },
    {
      "cell_type": "markdown",
      "source": [
        "Now try doing the above task but where a user is asked for a number and the function returns the square of that user's input."
      ],
      "metadata": {
        "id": "xPmpKEJqeFr7"
      }
    },
    {
      "cell_type": "code",
      "source": [],
      "metadata": {
        "id": "wvqnJSmvePMS"
      },
      "execution_count": null,
      "outputs": []
    },
    {
      "cell_type": "markdown",
      "source": [
        "Add an error message for non-numerical input."
      ],
      "metadata": {
        "id": "JTkyht2DePdr"
      }
    },
    {
      "cell_type": "code",
      "source": [],
      "metadata": {
        "id": "DZqw9cGYeUPC"
      },
      "execution_count": null,
      "outputs": []
    },
    {
      "cell_type": "markdown",
      "source": [
        "Try writing a function is_even(num) that returns True if the number is even, and False otherwise. Apply this to a number the user inputs. Add error messages for non-numerical input."
      ],
      "metadata": {
        "id": "nRfDjVPmeU7c"
      }
    },
    {
      "cell_type": "code",
      "source": [],
      "metadata": {
        "id": "WGZPi-9JesaD"
      },
      "execution_count": null,
      "outputs": []
    },
    {
      "cell_type": "markdown",
      "source": [
        "If we write a for loop, we can apply this function to a whole list of numbers. Try it."
      ],
      "metadata": {
        "id": "hjlD0hAUhWna"
      }
    },
    {
      "cell_type": "code",
      "source": [],
      "metadata": {
        "id": "AYVCSGgLhopi"
      },
      "execution_count": null,
      "outputs": []
    },
    {
      "cell_type": "markdown",
      "source": [
        "So far we've only defined functions with one **argument**, namely 'name' or 'num'. Now let's try defining a function which multiplies one user input by the next user input."
      ],
      "metadata": {
        "id": "_Ki4LvWHetd7"
      }
    },
    {
      "cell_type": "code",
      "source": [],
      "metadata": {
        "id": "OXdaeYRQet0l"
      },
      "execution_count": null,
      "outputs": []
    },
    {
      "cell_type": "markdown",
      "source": [
        "If we import math, we can use math.pi from it to devine a function which takes the radius of a circle and calculates the circumference and another function which calculates the area of it (specifying which one is which). You can use math.pi as a value for pi."
      ],
      "metadata": {
        "id": "cKW7OPbvhuDM"
      }
    },
    {
      "cell_type": "code",
      "source": [
        "import math"
      ],
      "metadata": {
        "id": "XZF1rHDFiG4X"
      },
      "execution_count": null,
      "outputs": []
    },
    {
      "cell_type": "code",
      "source": [],
      "metadata": {
        "id": "zvrtJWEMiSZH"
      },
      "execution_count": null,
      "outputs": []
    },
    {
      "cell_type": "markdown",
      "source": [
        "A **class** lets you combine data (attributes) and functions (methods) into one structure — this is called encapsulation."
      ],
      "metadata": {
        "id": "I0HTMvCGjVrZ"
      }
    },
    {
      "cell_type": "markdown",
      "source": [
        "Here, the class Dog defines:\n",
        "\n",
        "What every dog has: a name and an age\n",
        "\n",
        "What every dog can do:\n",
        "1. bark()\n",
        "2. get_age_in_human_years()"
      ],
      "metadata": {
        "id": "uB_HUo4hkoUh"
      }
    },
    {
      "cell_type": "code",
      "source": [
        "# __init__ is a special method (sometimes called a constructor) that Python automatically runs when you create a new object from a class.\n",
        "\n",
        "# It’s used to initialize (set up) the object’s data or state.\n"
      ],
      "metadata": {
        "id": "YQXyBImOkSPT"
      },
      "execution_count": null,
      "outputs": []
    },
    {
      "cell_type": "code",
      "source": [
        "class Dog:\n",
        "    def __init__(self, name, age):\n",
        "        self.name = name\n",
        "        self.age = age\n",
        "\n",
        "    def bark(self):\n",
        "        return f\"{self.name} says woof!\"\n",
        "\n",
        "    def get_age_in_human_years(self):\n",
        "        return self.age * 7"
      ],
      "metadata": {
        "id": "oSXjRr78jV7C"
      },
      "execution_count": null,
      "outputs": []
    },
    {
      "cell_type": "markdown",
      "source": [
        "'self' refers to the specific object (instance) that is being created or used, here my_dog.\n",
        "\n",
        "Whenever you define a method (like bark()) inside a class, you need to include self as the first parameter. This is how the method knows which object it’s working on."
      ],
      "metadata": {
        "id": "rp5xkn1AlJJl"
      }
    },
    {
      "cell_type": "code",
      "source": [
        "my_dog = Dog(\"Buddy\", 3)\n",
        "print(my_dog.bark())\n",
        "print(my_dog.get_age_in_human_years())"
      ],
      "metadata": {
        "id": "MyPfNoJ9juEU"
      },
      "execution_count": null,
      "outputs": []
    },
    {
      "cell_type": "markdown",
      "source": [
        "Now try to create a class which works on a cat which has a name, favourite food and age. Within the class, define two or three methods of your choice. Call the class Cat as it will need to be used later."
      ],
      "metadata": {
        "id": "ORnuW3vXl-K3"
      }
    },
    {
      "cell_type": "code",
      "source": [],
      "metadata": {
        "id": "vOrM2-CpmacU"
      },
      "execution_count": null,
      "outputs": []
    },
    {
      "cell_type": "markdown",
      "source": [
        "This seems like rather a lot of code at the moment but it can be useful when we then write a quick for loop to apply the methods within the class to a number of dogs or cats."
      ],
      "metadata": {
        "id": "ri4-LAQNma1F"
      }
    },
    {
      "cell_type": "markdown",
      "source": [
        "Here's an example with dogs."
      ],
      "metadata": {
        "id": "NJdNW4uOnOvx"
      }
    },
    {
      "cell_type": "code",
      "source": [
        "dogs = [\n",
        "    Dog(\"Buddy\", 3),\n",
        "    Dog(\"Charlie\", 5),\n",
        "    Dog(\"Max\", 4),\n",
        "    Dog(\"Bella\", 2),\n",
        "    Dog(\"Lucy\", 6),\n",
        "    Dog(\"Daisy\", 3),\n",
        "    Dog(\"Molly\", 7),\n",
        "    Dog(\"Bailey\", 1),\n",
        "    Dog(\"Rocky\", 8),\n",
        "    Dog(\"Lola\", 4),\n",
        "    Dog(\"Sadie\", 5),\n",
        "    Dog(\"Toby\", 6),\n",
        "    Dog(\"Chloe\", 2),\n",
        "    Dog(\"Duke\", 7),\n",
        "    Dog(\"Zoey\", 3),\n",
        "    Dog(\"Coco\", 4),\n",
        "    Dog(\"Buster\", 5),\n",
        "    Dog(\"Riley\", 6),\n",
        "    Dog(\"Lilly\", 2),\n",
        "    Dog(\"Bear\", 7),\n",
        "    Dog(\"Maggie\", 3),\n",
        "    Dog(\"Jack\", 4),\n",
        "    Dog(\"Millie\", 5),\n",
        "    Dog(\"Oliver\", 6),\n",
        "    Dog(\"Ruby\", 2),\n",
        "    Dog(\"Leo\", 7),\n",
        "    Dog(\"Gracie\", 3),\n",
        "    Dog(\"Oscar\", 4),\n",
        "    Dog(\"Rosie\", 5),\n",
        "    Dog(\"Jake\", 6),\n",
        "    Dog(\"Abby\", 2),\n",
        "    Dog(\"Zeus\", 7),\n",
        "    Dog(\"Emma\", 3),\n",
        "    Dog(\"Henry\", 4),\n",
        "    Dog(\"Luna\", 5),\n",
        "    Dog(\"Sam\", 6),\n",
        "    Dog(\"Mia\", 2),\n",
        "    Dog(\"Hunter\", 7),\n",
        "    Dog(\"Sasha\", 3),\n",
        "    Dog(\"Teddy\", 4),\n",
        "    Dog(\"Nala\", 5),\n",
        "    Dog(\"Apollo\", 6),\n",
        "    Dog(\"Gracie\", 2),\n",
        "    Dog(\"Finn\", 7),\n",
        "    Dog(\"Lily\", 3),\n",
        "    Dog(\"Ace\", 4),\n",
        "    Dog(\"Stella\", 5),\n",
        "    Dog(\"Boomer\", 6),\n",
        "    Dog(\"Minnie\", 2),\n",
        "    Dog(\"Shadow\", 7),\n",
        "    Dog(\"Ruby\", 3)\n",
        "]"
      ],
      "metadata": {
        "id": "PNIVZFmUmiRW"
      },
      "execution_count": null,
      "outputs": []
    },
    {
      "cell_type": "code",
      "source": [
        "for dog in dogs:\n",
        "  print(dog.bark())\n",
        "  print(dog.get_age_in_human_years())"
      ],
      "metadata": {
        "id": "eZCCsTx7oBx4"
      },
      "execution_count": null,
      "outputs": []
    },
    {
      "cell_type": "markdown",
      "source": [
        "Here is a list of fifty cats, their favourite food and their age. Use the methods from your cat class on the cats."
      ],
      "metadata": {
        "id": "ayCkiqFvq_gv"
      }
    },
    {
      "cell_type": "code",
      "source": [
        "cats = [\n",
        "    Cat(\"Whiskers\", \"tuna\", 3),\n",
        "    Cat(\"Mittens\", \"salmon\", 5),\n",
        "    Cat(\"Luna\", \"chicken\", 2),\n",
        "    Cat(\"Simba\", \"beef\", 4),\n",
        "    Cat(\"Oreo\", \"sardines\", 6),\n",
        "    Cat(\"Cleo\", \"turkey\", 7),\n",
        "    Cat(\"Nala\", \"shrimp\", 3),\n",
        "    Cat(\"Milo\", \"duck\", 1),\n",
        "    Cat(\"Tiger\", \"milk\", 9),\n",
        "    Cat(\"Bella\", \"cat treats\", 8),\n",
        "    Cat(\"Chester\", \"tuna\", 5),\n",
        "    Cat(\"Dusty\", \"salmon\", 11),\n",
        "    Cat(\"Shadow\", \"chicken\", 4),\n",
        "    Cat(\"Poppy\", \"beef\", 6),\n",
        "    Cat(\"Willow\", \"sardines\", 7),\n",
        "    Cat(\"Smudge\", \"turkey\", 2),\n",
        "    Cat(\"Ginger\", \"shrimp\", 10),\n",
        "    Cat(\"Mocha\", \"duck\", 1),\n",
        "    Cat(\"Pumpkin\", \"milk\", 12),\n",
        "    Cat(\"Cinnamon\", \"cat treats\", 9),\n",
        "    Cat(\"Pearl\", \"tuna\", 3),\n",
        "    Cat(\"Snowball\", \"salmon\", 5),\n",
        "    Cat(\"Marble\", \"chicken\", 8),\n",
        "    Cat(\"Ziggy\", \"beef\", 6),\n",
        "    Cat(\"Pickles\", \"sardines\", 7),\n",
        "    Cat(\"Olive\", \"turkey\", 2),\n",
        "    Cat(\"Paws\", \"shrimp\", 4),\n",
        "    Cat(\"Tinker\", \"duck\", 10),\n",
        "    Cat(\"Felix\", \"milk\", 13),\n",
        "    Cat(\"Coco\", \"cat treats\", 1),\n",
        "    Cat(\"Buttons\", \"tuna\", 11),\n",
        "    Cat(\"Socks\", \"salmon\", 4),\n",
        "    Cat(\"Hazel\", \"chicken\", 3),\n",
        "    Cat(\"Maple\", \"beef\", 8),\n",
        "    Cat(\"Loki\", \"sardines\", 5),\n",
        "    Cat(\"Pepper\", \"turkey\", 9),\n",
        "    Cat(\"Ruby\", \"shrimp\", 2),\n",
        "    Cat(\"Storm\", \"duck\", 7),\n",
        "    Cat(\"Toby\", \"milk\", 6),\n",
        "    Cat(\"Midnight\", \"cat treats\", 12),\n",
        "    Cat(\"Winnie\", \"tuna\", 10),\n",
        "    Cat(\"Fudge\", \"salmon\", 3),\n",
        "    Cat(\"Misty\", \"chicken\", 5),\n",
        "    Cat(\"Blue\", \"beef\", 4),\n",
        "    Cat(\"Lacey\", \"sardines\", 6),\n",
        "    Cat(\"Sable\", \"turkey\", 8),\n",
        "    Cat(\"Pumpkin\", \"shrimp\", 2),\n",
        "    Cat(\"Ash\", \"duck\", 9),\n",
        "    Cat(\"Velvet\", \"milk\", 11),\n",
        "    Cat(\"Honey\", \"cat treats\", 1)\n",
        "]\n"
      ],
      "metadata": {
        "id": "sgpgcHq1rOKD"
      },
      "execution_count": null,
      "outputs": []
    },
    {
      "cell_type": "code",
      "source": [],
      "metadata": {
        "id": "P27Nxi-CsAuH"
      },
      "execution_count": null,
      "outputs": []
    },
    {
      "cell_type": "markdown",
      "source": [
        "Here is one more exercise on classes:\n",
        "\n",
        "Create and use a class Rectangle with the attributes width and height, and the methods area_rectangle() and perimeter()."
      ],
      "metadata": {
        "id": "HGZWrr79sBCl"
      }
    },
    {
      "cell_type": "code",
      "source": [],
      "metadata": {
        "id": "v3os00i6tbyW"
      },
      "execution_count": null,
      "outputs": []
    },
    {
      "cell_type": "code",
      "source": [],
      "metadata": {
        "id": "BewltLlbthzj"
      },
      "execution_count": null,
      "outputs": []
    },
    {
      "cell_type": "markdown",
      "source": [
        "Sometimes, we define functions or methods inside and outside classes to handle more complex logic. Try bringing back the functions you defined earlier to calculate the area and circumference of a circle and adding a method to the class Rectangle which prints the area and circumference of a circle with the same radius as the height of the rectangle which the class Rectangle is operating on.\n",
        "\n"
      ],
      "metadata": {
        "id": "loHegTXntcLl"
      }
    },
    {
      "cell_type": "markdown",
      "source": [
        "![Screenshot 2025-10-17 at 16.21.34.png](data:image/png;base64,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)"
      ],
      "metadata": {
        "id": "OgJ0xMyTv5pD"
      }
    },
    {
      "cell_type": "markdown",
      "source": [
        "Essentially, the class Rectangle should take objects with the height and width of a rectangle like this one and its methods should include calculating and printing the area and perimeter (or circumference) of both the rectangle and circle like the ones above."
      ],
      "metadata": {
        "id": "dKB6a1zyw4je"
      }
    },
    {
      "cell_type": "code",
      "source": [],
      "metadata": {
        "id": "FvDyOLjVxto7"
      },
      "execution_count": null,
      "outputs": []
    },
    {
      "cell_type": "code",
      "source": [],
      "metadata": {
        "id": "xtxqeX0cxt_K"
      },
      "execution_count": null,
      "outputs": []
    },
    {
      "cell_type": "markdown",
      "source": [
        "As a last task, try making up your own problem and solving it. You may wish to create a function or a class to do something that you would find useful or interesting. You may, perhaps, wish to work in something from previous sessions like the length or linear position of a word in a sentence."
      ],
      "metadata": {
        "id": "NxFUrIPCxuoc"
      }
    },
    {
      "cell_type": "markdown",
      "source": [
        "(Give your function or class a description here)"
      ],
      "metadata": {
        "id": "7tTkHSA6yKhN"
      }
    },
    {
      "cell_type": "code",
      "source": [],
      "metadata": {
        "id": "5j_Bi_yByJme"
      },
      "execution_count": null,
      "outputs": []
    },
    {
      "cell_type": "code",
      "source": [],
      "metadata": {
        "id": "xSWpYj3IyJ6U"
      },
      "execution_count": null,
      "outputs": []
    }
  ]
}