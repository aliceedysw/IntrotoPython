{
 "cells": [
  {
   "cell_type": "markdown",
   "id": "3adddca8-5a5c-4b19-8639-391a7e930ffa",
   "metadata": {},
   "source": [
    "# Welcome to 'Intro to Python'!"
   ]
  },
  {
   "cell_type": "markdown",
   "id": "47b44aac-4976-4aa5-a7d1-b7e8bca8e0c1",
   "metadata": {},
   "source": [
    "This course should help students who are brand new to Python to learn everything they need to in order to be able to keep up with their assessed modules on the MSc Computational and Corpus Linguistics course. Let's get started."
   ]
  },
  {
   "cell_type": "markdown",
   "id": "b3edfc48-c390-4441-a133-a41652e56b75",
   "metadata": {},
   "source": [
    "## 1. Print, data types and variables"
   ]
  },
  {
   "cell_type": "markdown",
   "id": "91df022b-3119-4374-b9af-b08b8175014f",
   "metadata": {},
   "source": [
    "### 1.1 Print"
   ]
  },
  {
   "cell_type": "markdown",
   "id": "f00493dd-a029-41f5-a95c-483aef19a91f",
   "metadata": {},
   "source": [
    "First let's try using the print function which is built into python."
   ]
  },
  {
   "cell_type": "code",
   "execution_count": 46,
   "id": "e394fcd8-4443-40f4-8b41-0653b42d2e5c",
   "metadata": {},
   "outputs": [
    {
     "name": "stdout",
     "output_type": "stream",
     "text": [
      "Hello world!\n"
     ]
    }
   ],
   "source": [
    "print(\"Hello world!\")"
   ]
  },
  {
   "cell_type": "markdown",
   "id": "b63798ac-78d1-4554-8827-b7aae3f89ccb",
   "metadata": {},
   "source": [
    "Your turn, make a different phrase print."
   ]
  },
  {
   "cell_type": "code",
   "execution_count": null,
   "id": "860ed2e5-1660-4584-8ef9-45309e6dc624",
   "metadata": {},
   "outputs": [],
   "source": []
  },
  {
   "cell_type": "markdown",
   "id": "7e5c04a9-c975-4492-9e6c-f34aa194e5aa",
   "metadata": {},
   "source": [
    "Notice which bits of punctuation are needed to make it work?"
   ]
  },
  {
   "cell_type": "markdown",
   "id": "a541f993-b45f-4c7e-b017-8feb0ddc20ca",
   "metadata": {},
   "source": [
    "### 1.2 Data types and variables"
   ]
  },
  {
   "cell_type": "markdown",
   "id": "ffa64cf3-6dd9-40f5-8f6a-73bbf2240208",
   "metadata": {},
   "source": [
    "Apart from the brackets, the quote marks \"\" were what was needed to make the phrase print."
   ]
  },
  {
   "cell_type": "code",
   "execution_count": 51,
   "id": "34c7fec0-795c-4eb6-85e5-6f7262031211",
   "metadata": {},
   "outputs": [
    {
     "ename": "SyntaxError",
     "evalue": "invalid syntax. Perhaps you forgot a comma? (1578745968.py, line 1)",
     "output_type": "error",
     "traceback": [
      "\u001b[0;36m  Cell \u001b[0;32mIn[51], line 1\u001b[0;36m\u001b[0m\n\u001b[0;31m    print(Hello world!)\u001b[0m\n\u001b[0m          ^\u001b[0m\n\u001b[0;31mSyntaxError\u001b[0m\u001b[0;31m:\u001b[0m invalid syntax. Perhaps you forgot a comma?\n"
     ]
    }
   ],
   "source": [
    "print(Hello world!)"
   ]
  },
  {
   "cell_type": "code",
   "execution_count": 54,
   "id": "d41751eb-c0b9-44b3-b710-b847f5a6ee79",
   "metadata": {},
   "outputs": [
    {
     "name": "stdout",
     "output_type": "stream",
     "text": [
      "3\n"
     ]
    }
   ],
   "source": [
    "print(3)"
   ]
  },
  {
   "cell_type": "markdown",
   "id": "da7a04f6-4943-4416-9796-e844fe043e0c",
   "metadata": {},
   "source": [
    "Why did it work to print the number 3?\n",
    "\n",
    "There are a number of different 'types' in Python. Python automatically recognises values as different types but sometimes it gets it 'wrong' or doesn't recognise the data as the type that you hoped or assumed it would. Python treats values of different types differently.\n",
    "\n",
    "Some of the basic ones are:\n",
    "int = integers (e.g. 5, -10, 1200)\n",
    "float = decimal numbers (e.g. 3.5674, -0.3573, 1.0)\n",
    "str = string, a string of text (e.g. \"Hello world!\", \"Alice Eddyshaw\" or \"Siri, put bread on my shopping list.\" Even a number can be a string (\"3\") but then Python won't use it like a number, e.g. it won't add it, subtract it or include it in a mean.\n",
    "bool = booleans, logical values (i.e. True or False)\n",
    "NoneType = no value (i.e. None)\n",
    "\n",
    "A number like 3 is automatically recognised as an integer (int) and so it doesn't need the quote marks \"\" that a string like \"Hello world!\" needs.\n",
    "\n",
    "Let's test this out."
   ]
  },
  {
   "cell_type": "code",
   "execution_count": 57,
   "id": "d3168568-8a8e-49b5-bce4-f1878cc7ce6d",
   "metadata": {},
   "outputs": [
    {
     "name": "stdout",
     "output_type": "stream",
     "text": [
      "True\n"
     ]
    }
   ],
   "source": [
    "print(True)"
   ]
  },
  {
   "cell_type": "code",
   "execution_count": 59,
   "id": "59b3fc93-e145-4b19-8b12-b2a1edee510f",
   "metadata": {},
   "outputs": [
    {
     "name": "stdout",
     "output_type": "stream",
     "text": [
      "-0.4876\n"
     ]
    }
   ],
   "source": [
    "print(-0.4876)"
   ]
  },
  {
   "cell_type": "code",
   "execution_count": null,
   "id": "2a949141-4e72-410e-a7a3-4fd14ea9d8e1",
   "metadata": {},
   "outputs": [],
   "source": []
  },
  {
   "cell_type": "code",
   "execution_count": null,
   "id": "9b678fed-90e3-4cf0-8ff9-4610a4812841",
   "metadata": {},
   "outputs": [],
   "source": []
  },
  {
   "cell_type": "markdown",
   "id": "ea808c95-d686-4c7d-8b80-08952ba47b4c",
   "metadata": {},
   "source": [
    "Now let's create some variables. You can store a value in a variable. That can be a value of any type.\n",
    "\n",
    "Then, even if the name of a variable is text and looks like a string, python will know it's the name of a variable and will treat it as the type that is the type of the data you stored inside it."
   ]
  },
  {
   "cell_type": "code",
   "execution_count": 65,
   "id": "45ccd65b-d2bc-4fad-8e2c-a3eab7f5a2f3",
   "metadata": {},
   "outputs": [],
   "source": [
    "a = 3\n",
    "b = \"Hello\"\n",
    "c = 25.654\n",
    "d = 0.5\n",
    "e = \"4\""
   ]
  },
  {
   "cell_type": "code",
   "execution_count": 67,
   "id": "a9584a65-8e13-4758-bf5a-f9bd5d731ccf",
   "metadata": {},
   "outputs": [
    {
     "name": "stdout",
     "output_type": "stream",
     "text": [
      "28.654\n"
     ]
    }
   ],
   "source": [
    "print(a+c)"
   ]
  },
  {
   "cell_type": "code",
   "execution_count": 69,
   "id": "6a88aedd-a9a5-4429-9051-bc5ef472ed31",
   "metadata": {},
   "outputs": [
    {
     "ename": "TypeError",
     "evalue": "unsupported operand type(s) for +: 'int' and 'str'",
     "output_type": "error",
     "traceback": [
      "\u001b[0;31m---------------------------------------------------------------------------\u001b[0m",
      "\u001b[0;31mTypeError\u001b[0m                                 Traceback (most recent call last)",
      "Cell \u001b[0;32mIn[69], line 1\u001b[0m\n\u001b[0;32m----> 1\u001b[0m \u001b[38;5;28mprint\u001b[39m(a\u001b[38;5;241m+\u001b[39mb)\n",
      "\u001b[0;31mTypeError\u001b[0m: unsupported operand type(s) for +: 'int' and 'str'"
     ]
    }
   ],
   "source": [
    "print(a+b)"
   ]
  },
  {
   "cell_type": "markdown",
   "id": "ace6f3d6-7dec-4fed-8e20-154532f0d2f1",
   "metadata": {},
   "source": [
    "It comes up with a type error. See if you can make some more type errors come up."
   ]
  },
  {
   "cell_type": "code",
   "execution_count": null,
   "id": "4fb72cf6-fc6f-4dd3-b2df-2b7928e8a924",
   "metadata": {},
   "outputs": [],
   "source": []
  },
  {
   "cell_type": "code",
   "execution_count": null,
   "id": "24157fa7-57b0-499a-b5de-4b0872ef2d7b",
   "metadata": {},
   "outputs": [],
   "source": []
  },
  {
   "cell_type": "code",
   "execution_count": null,
   "id": "8c3c9ad6-8938-4be5-bdf6-626e88c5f41e",
   "metadata": {},
   "outputs": [],
   "source": []
  },
  {
   "cell_type": "markdown",
   "id": "38680e9e-94f5-40c5-a905-781780f1555e",
   "metadata": {},
   "source": [
    "Create a variable f and a variable g such that you can make a sum using f and g where the answer to that sum is 50. Then ask python to perform that sum."
   ]
  },
  {
   "cell_type": "code",
   "execution_count": null,
   "id": "371f0d5d-d769-4013-8e72-85c2b483fc1c",
   "metadata": {},
   "outputs": [],
   "source": []
  },
  {
   "cell_type": "code",
   "execution_count": null,
   "id": "2d9b530c-e681-4ecc-969c-8636f5ba4996",
   "metadata": {},
   "outputs": [],
   "source": []
  },
  {
   "cell_type": "code",
   "execution_count": null,
   "id": "1715823b-04fc-4908-bb39-ca17cb774e8e",
   "metadata": {},
   "outputs": [],
   "source": []
  },
  {
   "cell_type": "markdown",
   "id": "f1bcde4a-fae7-4f98-ae76-57f9699d6f77",
   "metadata": {},
   "source": [
    "## 2. Collection types - Types that hold multiple values."
   ]
  },
  {
   "cell_type": "code",
   "execution_count": 77,
   "id": "a747ade0-7b2b-4622-903e-f1914de175e0",
   "metadata": {},
   "outputs": [],
   "source": [
    "ListA = [1,2,3,4]\n",
    "ListB = [8,6,4,2]"
   ]
  },
  {
   "cell_type": "code",
   "execution_count": null,
   "id": "1f742701-e97e-4544-9f24-80c54fa348ae",
   "metadata": {},
   "outputs": [],
   "source": []
  },
  {
   "cell_type": "code",
   "execution_count": null,
   "id": "f93e6552-6979-4769-8b7a-0dc37552d44e",
   "metadata": {},
   "outputs": [],
   "source": []
  },
  {
   "cell_type": "code",
   "execution_count": null,
   "id": "f8b77efa-8f79-4fdd-99f0-26ff143f6d8f",
   "metadata": {},
   "outputs": [],
   "source": []
  }
 ],
 "metadata": {
  "kernelspec": {
   "display_name": "Python [conda env:base] *",
   "language": "python",
   "name": "conda-base-py"
  },
  "language_info": {
   "codemirror_mode": {
    "name": "ipython",
    "version": 3
   },
   "file_extension": ".py",
   "mimetype": "text/x-python",
   "name": "python",
   "nbconvert_exporter": "python",
   "pygments_lexer": "ipython3",
   "version": "3.12.7"
  }
 },
 "nbformat": 4,
 "nbformat_minor": 5
}
