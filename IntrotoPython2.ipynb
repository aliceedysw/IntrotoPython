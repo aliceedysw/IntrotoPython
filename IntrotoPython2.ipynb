{
  "nbformat": 4,
  "nbformat_minor": 0,
  "metadata": {
    "colab": {
      "provenance": []
    },
    "kernelspec": {
      "name": "python3",
      "display_name": "Python 3"
    },
    "language_info": {
      "name": "python"
    }
  },
  "cells": [
    {
      "cell_type": "markdown",
      "source": [
        "# Welcome to Intro to Python Session 2!"
      ],
      "metadata": {
        "id": "KKiVAMGz2Ex3"
      }
    },
    {
      "cell_type": "markdown",
      "source": [
        "In this session, we'll cover control flow, loops, and list and dictionary comprehensions."
      ],
      "metadata": {
        "id": "m3IPH4HA2JMM"
      }
    },
    {
      "cell_type": "markdown",
      "source": [
        "**Control flow** is how Python decides which code runs, when, and how often. It’s about making choices (conditional statements), repeating actions (loops), and handling special cases (exception handling)."
      ],
      "metadata": {
        "id": "bhIIk-KU23gR"
      }
    },
    {
      "cell_type": "markdown",
      "source": [
        "Here's an example of a conditional statement in which we ask Python to do (print) one thing if a condition is true and another thing if it is not true."
      ],
      "metadata": {
        "id": "jzF4jP5D3h-C"
      }
    },
    {
      "cell_type": "code",
      "execution_count": null,
      "metadata": {
        "id": "Nhzr62mU1__l"
      },
      "outputs": [],
      "source": [
        "age = 22\n",
        "\n",
        "if age >= 18:\n",
        "    print(\"You can vote.\")\n",
        "else:\n",
        "    print(\"You are too young.\")"
      ]
    },
    {
      "cell_type": "markdown",
      "source": [
        "Try changing age to a different number in the code above."
      ],
      "metadata": {
        "id": "PvPaVxte35nS"
      }
    },
    {
      "cell_type": "markdown",
      "source": [
        "Now, write some code which does something similar if Sams_age is great enough for him to legally own a pet in the UK. You need to make sure that your code will still work if the value of year_now is changed to another (integer) year."
      ],
      "metadata": {
        "id": "qSdqfAGy4JpG"
      }
    },
    {
      "cell_type": "code",
      "source": [
        "year_now = 2025\n",
        "# Sam was born in the first half of 2010\n",
        "Sams_age = year_now - 2010\n",
        "print(Sams_age)"
      ],
      "metadata": {
        "id": "5vNZJA3p4sws"
      },
      "execution_count": null,
      "outputs": []
    },
    {
      "cell_type": "code",
      "source": [],
      "metadata": {
        "id": "yhtysfoo5O7P"
      },
      "execution_count": null,
      "outputs": []
    },
    {
      "cell_type": "markdown",
      "source": [
        "At the end of last week's notebook, we took a brief look at '**for loops**'. They were very briefly explained as asking Python to go through each item in a collection, one by one, and do something with it."
      ],
      "metadata": {
        "id": "0Spj76_G5PVJ"
      }
    },
    {
      "cell_type": "markdown",
      "source": [
        "A for loop works with anything that's iterable (you can go through its elements one-by-one)."
      ],
      "metadata": {
        "id": "3Uh9pxNmnPI-"
      }
    },
    {
      "cell_type": "markdown",
      "source": [
        "Here, that's letters in a word."
      ],
      "metadata": {
        "id": "q5rHfe1EnaDt"
      }
    },
    {
      "cell_type": "code",
      "source": [
        "for letter in \"Python\":\n",
        "    print(letter)\n"
      ],
      "metadata": {
        "id": "80QACrBx56So"
      },
      "execution_count": null,
      "outputs": []
    },
    {
      "cell_type": "markdown",
      "source": [
        "Write some code to print each letter of a sentence, but not the spaces."
      ],
      "metadata": {
        "id": "uKAzEgqvxZbU"
      }
    },
    {
      "cell_type": "code",
      "source": [],
      "metadata": {
        "id": "kff4pwEhxZvZ"
      },
      "execution_count": null,
      "outputs": []
    },
    {
      "cell_type": "markdown",
      "source": [
        "And, here, that's members of the 5 times table. We'll use f-strings to be able to print a string with variables in it for the whole sum.\n",
        "\n",
        "An f-string is a way to format strings by putting an f before the quotes and inserting variables or expressions inside curly brackets {}.\n"
      ],
      "metadata": {
        "id": "-qvFslYxnc6L"
      }
    },
    {
      "cell_type": "code",
      "source": [
        "for i in range(1, 13):   # numbers 1 to 12\n",
        "    print(f\"5 x {i} = {5 * i}\")\n"
      ],
      "metadata": {
        "id": "HIY59ia4nlpb"
      },
      "execution_count": null,
      "outputs": []
    },
    {
      "cell_type": "markdown",
      "source": [
        "Above, we used if...else, but you can also use for...else in Python. If the loop was not interrupted by a break, then else is triggered. This is quite useful in practice. And can be used as an infinite loop exception (i.e. to avoid a loop running infinitely)."
      ],
      "metadata": {
        "id": "xfUsLLrjBmek"
      }
    },
    {
      "cell_type": "code",
      "source": [
        "for i in range(1, 13):   # numbers 1 to 12\n",
        "    print(f\"5 x {i} = {5 * i}\")\n",
        "else:\n",
        "    print(\"Finished printing the 5 times table up to 12!\")"
      ],
      "metadata": {
        "id": "4SnaxcvHBm7A"
      },
      "execution_count": null,
      "outputs": []
    },
    {
      "cell_type": "code",
      "source": [
        "for i in range(1, 13):   # numbers 1 to 12\n",
        "    print(f\"5 x {i} = {5 * i}\")\n",
        "    if i == 7: break\n",
        "else:\n",
        "    print(\"Finished printing the 5 times table!\")"
      ],
      "metadata": {
        "id": "PqjQg-kbCPq_"
      },
      "execution_count": null,
      "outputs": []
    },
    {
      "cell_type": "markdown",
      "source": [
        "You can use the word continue to skip over an element."
      ],
      "metadata": {
        "id": "ZK0T0OPPofS3"
      }
    },
    {
      "cell_type": "code",
      "source": [
        "for i in range(1, 13):\n",
        "    if i == 5: continue\n",
        "    print(f\"5 x {i} = {5 * i}\")"
      ],
      "metadata": {
        "id": "v5Hl1_V3pDzs"
      },
      "execution_count": null,
      "outputs": []
    },
    {
      "cell_type": "markdown",
      "source": [
        "The word break can be used to stop at a particular element, say if I wanted to only go up to 5 x 10."
      ],
      "metadata": {
        "id": "VekLaEGQpKnG"
      }
    },
    {
      "cell_type": "code",
      "source": [
        "for i in range(1, 13):\n",
        "    if i == 5: continue\n",
        "    if i == 11: break\n",
        "    print(f\"5 x {i} = {5 * i}\")"
      ],
      "metadata": {
        "id": "HA1Wnn4XpftQ"
      },
      "execution_count": null,
      "outputs": []
    },
    {
      "cell_type": "markdown",
      "source": [
        "You can use continue to skip certain kinds of elements, rather than only one specific element. Here, I've used continue to skip elements where the answer to the sum is even.\n",
        "\n",
        "I've done this by saying that if there is no remainder when the answer to the sum is divided by two then that element should be skipped."
      ],
      "metadata": {
        "id": "mL8x6kA5qLrh"
      }
    },
    {
      "cell_type": "code",
      "source": [
        "for i in range(1, 13):\n",
        "    if i == 5: continue\n",
        "    if i == 11: break\n",
        "    if (5 * i) % 2 == 0: continue\n",
        "    print(f\"5 x {i} = {5 * i}\")"
      ],
      "metadata": {
        "id": "niH-jOiqqL71"
      },
      "execution_count": null,
      "outputs": []
    },
    {
      "cell_type": "markdown",
      "source": [
        "Create a piece of code using a for loop which lists the numbers 1 to 50 but skips those which are multiples of seven or four."
      ],
      "metadata": {
        "id": "rLr3D6eXJXt6"
      }
    },
    {
      "cell_type": "code",
      "source": [],
      "metadata": {
        "id": "2kUNCUJIJmZZ"
      },
      "execution_count": null,
      "outputs": []
    },
    {
      "cell_type": "markdown",
      "source": [
        "For the sentence you printed letter-by-letter earlier, use continue so that it prints again letter by letter below but skips over a word of your choice."
      ],
      "metadata": {
        "id": "A0geJ0Qrys9D"
      }
    },
    {
      "cell_type": "code",
      "source": [],
      "metadata": {
        "id": "5d_UHCSX0JCx"
      },
      "execution_count": null,
      "outputs": []
    },
    {
      "cell_type": "markdown",
      "source": [
        "Let's create a for loop to go through a dictionary of 50 members of a social media platform aimed at teens to find those who are underage. You have to be 13 to use the app."
      ],
      "metadata": {
        "id": "eQBJqJsDJmzY"
      }
    },
    {
      "cell_type": "code",
      "source": [
        "UsersAgeDict = {\n",
        "    \"skywalker92\": 11,\n",
        "    \"coffee_addict\": 14,\n",
        "    \"catlover_77\": 16,\n",
        "    \"techie_girl\": 19,\n",
        "    \"john_doe_123\": 18,\n",
        "    \"bookworm45\": 15,\n",
        "    \"wanderlust99\": 12,\n",
        "    \"guitarhero\": 17,\n",
        "    \"soccer_star21\": 11,\n",
        "    \"foodie_queen\": 19,\n",
        "    \"dance_queen\": 14,\n",
        "    \"coding_ninja\": 16,\n",
        "    \"retro_gamer88\": 14,\n",
        "    \"yoga_life\": 11,\n",
        "    \"dogdad2020\": 13,\n",
        "    \"artsy_vibes\": 13,\n",
        "    \"biker_boy\": 17,\n",
        "    \"sunshine_16\": 16,\n",
        "    \"history_buff\": 20,\n",
        "    \"movie_fanatic\": 17,\n",
        "    \"nature_girl\": 10,\n",
        "    \"puzzle_master\": 14,\n",
        "    \"travel_bug\": 12,\n",
        "    \"sports_freak\": 19,\n",
        "    \"fitness_fan\": 20,\n",
        "    \"hiking_junkie\": 10,\n",
        "    \"anime_lover\": 8,\n",
        "    \"cool_kid23\": 15,\n",
        "    \"chef_in_action\": 19,\n",
        "    \"photogirl\": 18,\n",
        "    \"dancer_dreams\": 21,\n",
        "    \"geek_guy\": 20,\n",
        "    \"poetry_soul\": 16,\n",
        "    \"music_maven\": 19,\n",
        "    \"street_skater\": 17,\n",
        "    \"lazy_genius\": 12,\n",
        "    \"robot_fan\": 20,\n",
        "    \"chef_mom\": 12,\n",
        "    \"coding_kid\": 14,\n",
        "    \"rock_climber\": 13,\n",
        "    \"dj_mixer\": 17,\n",
        "    \"student_life\": 19,\n",
        "    \"funny_guy\": 11,\n",
        "    \"retro_vibes\": 18,\n",
        "    \"queenbee\": 10,\n",
        "    \"silent_reader\": 17,\n",
        "    \"mountain_dude\": 15,\n",
        "    \"urban_explorer\": 18,\n",
        "    \"happy_feet\": 20,\n",
        "    \"starrynight\": 14\n",
        "}"
      ],
      "metadata": {
        "id": "HQdiPyJ-J1vk"
      },
      "execution_count": null,
      "outputs": []
    },
    {
      "cell_type": "code",
      "source": [
        "for username, age in UsersAgeDict.items():\n",
        "    if age > 12: continue\n",
        "    print(f\"{username} is {age} years old.\")\n"
      ],
      "metadata": {
        "id": "C2ZghRXlL1Zb"
      },
      "execution_count": null,
      "outputs": []
    },
    {
      "cell_type": "markdown",
      "source": [
        "Now create a for loop to go through the dictionary to find those who have aged out of the app, i.e. those who are no longer teens."
      ],
      "metadata": {
        "id": "8MVZ2VYAQQpO"
      }
    },
    {
      "cell_type": "code",
      "source": [],
      "metadata": {
        "id": "g1srLxfQQcsR"
      },
      "execution_count": null,
      "outputs": []
    },
    {
      "cell_type": "markdown",
      "source": [
        "A '**while loop**' repeats a block of code as long as a condition is true. The code below sets count to equal 1 then as long as count is below or equal to 5 then it prints count and updates the value of count to be one greater than it was in the previous round of the loop."
      ],
      "metadata": {
        "id": "YfLXBV38QivG"
      }
    },
    {
      "cell_type": "code",
      "source": [
        "count = 1\n",
        "\n",
        "while count <= 5:\n",
        "    print(count)\n",
        "    count += 1"
      ],
      "metadata": {
        "id": "Tl2CASeNAZm-"
      },
      "execution_count": null,
      "outputs": []
    },
    {
      "cell_type": "markdown",
      "source": [
        "While loops can easily become infinite. (Stop it by pressing stop on the left when you're ready)"
      ],
      "metadata": {
        "id": "FepFO7Pl8Q5E"
      }
    },
    {
      "cell_type": "code",
      "source": [
        "while True:\n",
        "    print(\"This will run forever!\")"
      ],
      "metadata": {
        "id": "VQt4Qbbb8QCa"
      },
      "execution_count": null,
      "outputs": []
    },
    {
      "cell_type": "markdown",
      "source": [
        "But this can easily become problematic. 'While' can become useless for practical purposes as you can fix the infinite problem by starting with while True and breaking conditions and then replacing while True with for x in range(MAX_ITER)). But here's an infinite while loop, but with a breaking condition."
      ],
      "metadata": {
        "id": "5YoP0p7A8laY"
      }
    },
    {
      "cell_type": "code",
      "source": [
        "count = 0\n",
        "\n",
        "while True:\n",
        "    print(\"This will run forever! (Well, almost...)\")\n",
        "    count += 1\n",
        "\n",
        "    if count >= 10:\n",
        "        break"
      ],
      "metadata": {
        "id": "nGzCsTe2-d54"
      },
      "execution_count": null,
      "outputs": []
    },
    {
      "cell_type": "markdown",
      "source": [
        "Below, a for loop does the same thing but more simply."
      ],
      "metadata": {
        "id": "U9jS7Bp-_RMx"
      }
    },
    {
      "cell_type": "code",
      "source": [
        "for count in range(10):\n",
        "    print(\"This will run forever! (Well, almost...)\")"
      ],
      "metadata": {
        "id": "ngeu3Z4h_RgT"
      },
      "execution_count": null,
      "outputs": []
    },
    {
      "cell_type": "markdown",
      "source": [
        "Write a while loop where age counts up from one and prints \"You are a child.\" until the person whose age that is is no longer a child."
      ],
      "metadata": {
        "id": "GgGW79NgBBee"
      }
    },
    {
      "cell_type": "code",
      "source": [],
      "metadata": {
        "id": "XZiUP6EaCmlC"
      },
      "execution_count": null,
      "outputs": []
    },
    {
      "cell_type": "markdown",
      "source": [
        "You can also incorporate interactivity where the user can enter their own text. The function input() is used for this. We set user pension age to 0 which is how we can set it to nothing but allow it to become an integer in the future. For integers, we also have to use int() to let Python know that the input will be an integer."
      ],
      "metadata": {
        "id": "66rZcL6wB3Bh"
      }
    },
    {
      "cell_type": "code",
      "source": [
        "user_pension_age = 0\n",
        "\n",
        "print(\"Pension eligibility checker\")\n",
        "\n",
        "while user_pension_age < 66:\n",
        "    user_pension_age = int(input(\"Enter your age: \"))\n",
        "\n",
        "print(\"Eligible!\")"
      ],
      "metadata": {
        "id": "hTuV71LCBedi"
      },
      "execution_count": null,
      "outputs": []
    },
    {
      "cell_type": "markdown",
      "source": [
        "Write some code that asks the user to enter a password repeatedly until they type the correct one (\"open123\").\n",
        "When correct, print \"Access granted!\"."
      ],
      "metadata": {
        "id": "R_O88TXHBfXt"
      }
    },
    {
      "cell_type": "code",
      "source": [],
      "metadata": {
        "id": "91IRDTPwB2Bs"
      },
      "execution_count": null,
      "outputs": []
    },
    {
      "cell_type": "markdown",
      "source": [
        "Above we looked at if, else statements. Now let's try adding elif. 'Elif' means “else if”. You can use it to test another condition only if the previous 'if' condition was false."
      ],
      "metadata": {
        "id": "tborGO5TQ4Hh"
      }
    },
    {
      "cell_type": "code",
      "source": [
        "age = 16\n",
        "\n",
        "if age < 13:\n",
        "    print(\"You're a child.\")\n",
        "elif age < 18:\n",
        "    print(\"You're a teenager.\")\n",
        "else:\n",
        "    print(\"You're an adult.\")\n"
      ],
      "metadata": {
        "id": "eX6sCsfBR2bJ"
      },
      "execution_count": null,
      "outputs": []
    },
    {
      "cell_type": "markdown",
      "source": [
        "You can also nest conditionals and loops. Imagine a leisure complex has different kids clubs for different ages. Let's build a tool that a user can use to decide which club their child should attend."
      ],
      "metadata": {
        "id": "kAzLXOjqScpk"
      }
    },
    {
      "cell_type": "code",
      "source": [
        "print(\"Kids club decision tool\")\n",
        "\n",
        "child_age = int(input(\"Enter your child's age in years: \"))\n",
        "\n",
        "while child_age < 18:\n",
        "    if 0 <= child_age < 3:\n",
        "        print(\"Your child should attend Tiny Tots.\")\n",
        "    elif 3 <= child_age < 8:\n",
        "        print(\"Your child should attend Little Explorers.\")\n",
        "    elif 8 <= child_age < 13:\n",
        "        print(\"Your child should attend Club Imagine.\")\n",
        "    elif 13 <= child_age < 16:\n",
        "        print(\"Your child should attend ChillZone.\")\n",
        "    elif 16 <= child_age < 18:\n",
        "        print(\"Your child should attend The Nook.\")\n",
        "    else:\n",
        "        print(\"Negative number is impossible age.\")\n",
        "\n",
        "    child_age = int(input(\"Enter your child's age in years: \"))\n",
        "\n",
        "print(\"No kids club available, your child is an adult.\")"
      ],
      "metadata": {
        "id": "undAdrkYSSCJ"
      },
      "execution_count": null,
      "outputs": []
    },
    {
      "cell_type": "markdown",
      "source": [
        "Edit the above tool so that children above the age of 16 and below the age of 3 are not able to attend a kids club. Also, let users of the tool know that they can enter exactly the number -100 to indicate that they have entered all their children (and make this possible)."
      ],
      "metadata": {
        "id": "3tMEr3Q8rfEj"
      }
    },
    {
      "cell_type": "code",
      "source": [],
      "metadata": {
        "id": "mGhHzNHurzAo"
      },
      "execution_count": null,
      "outputs": []
    },
    {
      "cell_type": "markdown",
      "source": [
        "Make a tool where users can enter a string. If that string contains a particular word, for example a swear word, reject that string and send the user a warning message. For this you will need regular expressions."
      ],
      "metadata": {
        "id": "O_DCd2zJsqSS"
      }
    },
    {
      "cell_type": "code",
      "source": [
        "import re"
      ],
      "metadata": {
        "id": "Q4vEwc5ethFb"
      },
      "execution_count": null,
      "outputs": []
    },
    {
      "cell_type": "markdown",
      "source": [
        "The hash symbols I use below are because the text cells like the one I'm in now take an asterisk to mean italics. The hash symbols allow you to write notes in code cells without it being treated as code which is supposed to function."
      ],
      "metadata": {
        "id": "0wdHX0CPwsNi"
      }
    },
    {
      "cell_type": "code",
      "source": [
        "# You may wish to use these lines (without the hash symbols) (here, 'message' is a variable name\n",
        "# which refers to the user's input and 'badword' stands in for your choice of word to reject):\n",
        "\n",
        "# pattern = r\"[^a-zA-Z]*badword[^a-zA-Z]*\"\n",
        "\n",
        "# if re.search(pattern, message, re.IGNORECASE):"
      ],
      "metadata": {
        "id": "K6WyH1TlvPAD"
      },
      "execution_count": null,
      "outputs": []
    },
    {
      "cell_type": "code",
      "source": [
        "# [^a-zA-Z]*\n",
        "\n",
        "# [ ... ] → a character set (matches any one character inside)\n",
        "\n",
        "# a-zA-Z → matches any letter: letters (a-z / A-Z)\n",
        "\n",
        "# ^ inside the brackets → negates the set (matches anything NOT in the set)\n",
        "\n",
        "# * → matches 0 or more of the preceding pattern\n",
        "\n",
        "# So [^a-zA-Z]* means: Match zero or more characters that are NOT letters (usually punctuation, spaces, numbers, etc.)"
      ],
      "metadata": {
        "id": "rVPwX3nWwi_u"
      },
      "execution_count": null,
      "outputs": []
    },
    {
      "cell_type": "code",
      "source": [],
      "metadata": {
        "id": "7kRE7vhLth5J"
      },
      "execution_count": null,
      "outputs": []
    },
    {
      "cell_type": "code",
      "source": [],
      "metadata": {
        "id": "6_12EkDRxwTB"
      },
      "execution_count": null,
      "outputs": []
    },
    {
      "cell_type": "markdown",
      "source": [
        "**Exception handling**: Python uses try and except blocks to handle errors nicely."
      ],
      "metadata": {
        "id": "RrCud0xAxw9I"
      }
    },
    {
      "cell_type": "markdown",
      "source": [
        "For example, we want to write a program that asks the user to enter two numbers and divides them. But users might enter non-numeric input or try to divide by zero\n",
        "\n",
        "We need it to handle these errors without crashing."
      ],
      "metadata": {
        "id": "7SoAnYcwyCdM"
      }
    },
    {
      "cell_type": "code",
      "source": [
        "try:\n",
        "    num1 = float(input(\"Enter the first number: \"))\n",
        "    num2 = float(input(\"Enter the second number: \"))\n",
        "\n",
        "    result = num1 / num2\n",
        "\n",
        "except ValueError:\n",
        "    print(\"Please enter valid numbers only.\")\n",
        "except ZeroDivisionError:\n",
        "    print(\"Cannot divide by zero!\")\n",
        "else:\n",
        "    print(f\"The result is: {result}\")"
      ],
      "metadata": {
        "id": "MlBCJ-ovyO1i"
      },
      "execution_count": null,
      "outputs": []
    },
    {
      "cell_type": "markdown",
      "source": [
        "Now let's create a square root calculator. Ask the user for a number and print its square root. For the square root, use to the power of 0.5 (** 0.5). Handle errors if the input is negative or not numeric."
      ],
      "metadata": {
        "id": "tFbi8R__z4WM"
      }
    },
    {
      "cell_type": "code",
      "source": [],
      "metadata": {
        "id": "h6zCvcJB0Zmx"
      },
      "execution_count": null,
      "outputs": []
    },
    {
      "cell_type": "markdown",
      "source": [
        "The last topic for today is **list and dictionary comprehensions**."
      ],
      "metadata": {
        "id": "eVKprcgZ0Z76"
      }
    },
    {
      "cell_type": "markdown",
      "source": [
        "A comprehension is a way to create lists, sets, or dictionaries."
      ],
      "metadata": {
        "id": "-UlB3H1m2-IK"
      }
    },
    {
      "cell_type": "markdown",
      "source": [
        "It's also possible to do that with a for loop. For example, square numbers, below. (Note Python counts from 0 so the first five square numbers go up to 4 squared.)"
      ],
      "metadata": {
        "id": "kdqhfnGN3G-v"
      }
    },
    {
      "cell_type": "code",
      "source": [
        "square_numbers = []\n",
        "for i in range(5):\n",
        "    square_numbers.append(i ** 2)\n",
        "\n",
        "print(square_numbers)"
      ],
      "metadata": {
        "id": "yMueJoXV3QUm"
      },
      "execution_count": null,
      "outputs": []
    },
    {
      "cell_type": "markdown",
      "source": [
        "But a comprehension means this can be done using a single line of code."
      ],
      "metadata": {
        "id": "czdb5vAr3oLu"
      }
    },
    {
      "cell_type": "code",
      "source": [
        "squares = [i ** 2 for i in range(5)]\n",
        "print(squares)"
      ],
      "metadata": {
        "id": "TJPbulkd0evc"
      },
      "execution_count": null,
      "outputs": []
    },
    {
      "cell_type": "markdown",
      "source": [
        "Can you make a dictionary of a number and the square of it, using a comprehension?"
      ],
      "metadata": {
        "id": "-bU9zhW-BpTV"
      }
    },
    {
      "cell_type": "code",
      "source": [],
      "metadata": {
        "id": "D3GF4__jBwF8"
      },
      "execution_count": null,
      "outputs": []
    },
    {
      "cell_type": "markdown",
      "source": [
        "Try to create a list of even numbers from 0 to 20 using a comprehension and an if condition."
      ],
      "metadata": {
        "id": "I0C2vMBO4AHn"
      }
    },
    {
      "cell_type": "code",
      "source": [],
      "metadata": {
        "id": "HViqKCIB4JIu"
      },
      "execution_count": null,
      "outputs": []
    },
    {
      "cell_type": "markdown",
      "source": [
        "Now let's try making a list of just the first letters of a list of words. We use word[0] to choose the letter in the first position - 0 because Python counts from 0."
      ],
      "metadata": {
        "id": "MphmdndX4S-O"
      }
    },
    {
      "cell_type": "code",
      "source": [
        "words_5 = [\"pen\", \"pencil\", \"laptop\", \"mug\", \"bottle\", \"paper\", \"notepad\", \"highlighter\", \"book\"]\n",
        "\n",
        "first_letters = [word[0] for word in words_5]\n",
        "print(first_letters)"
      ],
      "metadata": {
        "id": "9ZCuyYTs4cyd"
      },
      "execution_count": null,
      "outputs": []
    },
    {
      "cell_type": "markdown",
      "source": [
        "Do the same for a list of words but find the *third* letter of each word."
      ],
      "metadata": {
        "id": "pAD3a7P05VC0"
      }
    },
    {
      "cell_type": "code",
      "source": [],
      "metadata": {
        "id": "9Pqfx3fD5bua"
      },
      "execution_count": null,
      "outputs": []
    },
    {
      "cell_type": "markdown",
      "source": [
        "How could we do this for the *last* letter of each word?"
      ],
      "metadata": {
        "id": "DKQ6-dkC5cCa"
      }
    },
    {
      "cell_type": "markdown",
      "source": [
        "In Python, -1 refers to the last item in a sequence.\n",
        "Try it out."
      ],
      "metadata": {
        "id": "Lgu9eZlj51t0"
      }
    },
    {
      "cell_type": "code",
      "source": [],
      "metadata": {
        "id": "_mx8rRKR6IQL"
      },
      "execution_count": null,
      "outputs": []
    },
    {
      "cell_type": "markdown",
      "source": [
        "Here's a Lady Macbeth monologue."
      ],
      "metadata": {
        "id": "hO075cuN6IyL"
      }
    },
    {
      "cell_type": "code",
      "source": [
        "paragraph_LM = \"Glamis thou art, and Cawdor, and shalt be what thou art promised. Yet do I fear thy nature; it is too full o’ th’ milk of human kindness to catch the nearest way. Thou wouldst be great, art not without ambition, but without the illness should attend it. What thou wouldst highly, that wouldst thou holily; wouldst not play false and yet wouldst wrongly win. Thou ’dst have, great Glamis, that which cries “Thus thou must do,” if thou have it, and that which rather thou dost fear to do, than wishest should be undone. Hie thee hither, that I may pour my spirits in thine ear and chastise with the valor of my tongue all that impedes thee from the golden round, which fate and metaphysical aid doth seem to have thee crowned withal. \""
      ],
      "metadata": {
        "id": "gO6eu-Lj6fP0"
      },
      "execution_count": null,
      "outputs": []
    },
    {
      "cell_type": "markdown",
      "source": [
        "We'll use a list and a comprehension to find the last word of each sentence. I'm using 'if sentence.strip()' so that Python doesn't try to find the last character of the final empty string (which is impossible so it would crash). I'm also using .split() again inside the comprehension to find the last word, otherwise we'd be finding the last character."
      ],
      "metadata": {
        "id": "51VBx1fW7SDs"
      }
    },
    {
      "cell_type": "code",
      "source": [
        "sentences_LM = paragraph_LM.split(\". \")\n",
        "print(sentences_LM)\n",
        "\n",
        "last_words = [sentence.split()[-1] for sentence in sentences_LM if sentence.strip()]\n",
        "print(last_words)"
      ],
      "metadata": {
        "id": "k3s0l99D7ecI"
      },
      "execution_count": null,
      "outputs": []
    },
    {
      "cell_type": "markdown",
      "source": [
        "Use the same text, finding every word that occurs directly before a comma."
      ],
      "metadata": {
        "id": "MPqJgaAM-e6W"
      }
    },
    {
      "cell_type": "code",
      "source": [],
      "metadata": {
        "id": "fDLOKAG--feo"
      },
      "execution_count": null,
      "outputs": []
    },
    {
      "cell_type": "markdown",
      "source": [
        "Use whichever method you would like to create a list of every word that occurs before a piece of punctuation (not apostrophes or quote marks) in that text."
      ],
      "metadata": {
        "id": "6gSv5r4VBCzh"
      }
    },
    {
      "cell_type": "code",
      "source": [],
      "metadata": {
        "id": "692J7I2HBOXC"
      },
      "execution_count": null,
      "outputs": []
    },
    {
      "cell_type": "markdown",
      "source": [
        "Can you make a dictionary which maps each word in the passage to its length? (Don't worry about punctuation unless you'd like to add removing that punctuation as a bonus challenge.)\n",
        "\n",
        "(Hint: use len())"
      ],
      "metadata": {
        "id": "wvWFqNd_BZ8E"
      }
    },
    {
      "cell_type": "code",
      "source": [],
      "metadata": {
        "id": "mJhV4NLJCfOY"
      },
      "execution_count": null,
      "outputs": []
    },
    {
      "cell_type": "markdown",
      "source": [
        "Lastly, we'll create a new dictionary from two lists. Here, I'll create a dictionary that shows a letter of the alphabet and its position in the alphabet, relying on the fact that I know there are 26 letters in the English alphabet."
      ],
      "metadata": {
        "id": "uuC1KNsQCf9Y"
      }
    },
    {
      "cell_type": "code",
      "source": [
        "alphabet_str = \"a b c d e f g h i j k l m n o p q r s t u v w x y z\"\n",
        "alphabet = alphabet_str.split()\n",
        "numbers = [i for i in range(1, 27)]\n",
        "\n",
        "keys = alphabet\n",
        "values = numbers\n",
        "\n",
        "alphabet_dict = dict(zip(keys, values))\n",
        "print(alphabet_dict)"
      ],
      "metadata": {
        "id": "gIKOMV9GF-HR"
      },
      "execution_count": null,
      "outputs": []
    },
    {
      "cell_type": "markdown",
      "source": [
        "(Of course we could have just create a dictionary from an initial comprehension here but this is still a useful skill, say if you already have the lists stored)"
      ],
      "metadata": {
        "id": "BD3ZTfAYJPyt"
      }
    },
    {
      "cell_type": "markdown",
      "source": [
        "We can also use a combination of zip() and range() to create a list of numbers which correspond to the order of elements without relying on knowing the number of elements in the list (above, the alphabet)."
      ],
      "metadata": {
        "id": "UVb4wU8TO6AM"
      }
    },
    {
      "cell_type": "code",
      "source": [
        "import re\n",
        "\n",
        "clean_paragraph = re.sub(r\"[^\\w\\s']\", \"\", paragraph_LM) # Just removing punctuation (except straight apostrophes) so that, for example, 'the;' and 'the' are recognised as the same word.\n",
        "\n",
        "words_LM = clean_paragraph.split()\n",
        "\n",
        "WordOrder_dict = {}\n",
        "\n",
        "for pos, word in zip(range(1, len(words_LM) + 1), words_LM):\n",
        "    if word not in WordOrder_dict:\n",
        "        WordOrder_dict[word] = []\n",
        "    WordOrder_dict[word].append(pos)\n",
        "\n",
        "print(WordOrder_dict)"
      ],
      "metadata": {
        "id": "wmprBDnMO6W6"
      },
      "execution_count": null,
      "outputs": []
    },
    {
      "cell_type": "code",
      "source": [
        "usernames_2 = [\n",
        "    \"alpha_adventurer\",\n",
        "    \"bravo_biker\",\n",
        "    \"charlie_coder\",\n",
        "    \"delta_dreamer\",\n",
        "    \"echo_explorer\",\n",
        "    \"foxtrot_foodie\",\n",
        "    \"golf_gamer\",\n",
        "    \"hotel_hiker\",\n",
        "    \"india_inventor\",\n",
        "    \"juliet_journal\",\n",
        "    \"kilo_keeper\",\n",
        "    \"lima_learner\",\n",
        "    \"mike_musician\",\n",
        "    \"november_navigator\",\n",
        "    \"oscar_observer\",\n",
        "    \"papa_painter\",\n",
        "    \"quebec_quest\",\n",
        "    \"romeo_runner\",\n",
        "    \"sierra_scholar\",\n",
        "    \"tango_traveler\",\n",
        "    \"uniform_unicorn\",\n",
        "    \"victor_vision\",\n",
        "    \"whiskey_writer\",\n",
        "    \"xray_xplorer\",\n",
        "    \"yankee_yogi\",\n",
        "    \"zulu_zest\"\n",
        "]"
      ],
      "metadata": {
        "id": "5BqAKyL8LESJ"
      },
      "execution_count": null,
      "outputs": []
    },
    {
      "cell_type": "markdown",
      "source": [
        "Each user clearly has a favourite letter. As your last task today, create a dictionary mapping each user to their favourite letter."
      ],
      "metadata": {
        "id": "Xu4tlLl4Jhq6"
      }
    },
    {
      "cell_type": "code",
      "source": [],
      "metadata": {
        "id": "Lv-fjTAJLfIU"
      },
      "execution_count": null,
      "outputs": []
    },
    {
      "cell_type": "markdown",
      "source": [
        "Thanks for coming & I hope you have a good week!"
      ],
      "metadata": {
        "id": "-oEaIbZrLfhy"
      }
    },
    {
      "cell_type": "markdown",
      "source": [
        "Python has recently introduced match syntax. If you'd like something to explore, you can find some information about that here: https://www.w3schools.com/python/python_match.asp Here are a couple of examples. As you can see, some similar functionality can be achieved as the syntax we have looked at in this session. This syntax was introduced to make pattern-based conditional logic clearer and more powerful than long chains of if, elif statements."
      ],
      "metadata": {
        "id": "O918K8taGuzo"
      }
    },
    {
      "cell_type": "code",
      "source": [
        "day = 4\n",
        "match day:\n",
        "  case 1:\n",
        "    print(\"Monday\")\n",
        "  case 2:\n",
        "    print(\"Tuesday\")\n",
        "  case 3:\n",
        "    print(\"Wednesday\")\n",
        "  case 4:\n",
        "    print(\"Thursday\")\n",
        "  case 5:\n",
        "    print(\"Friday\")\n",
        "  case 6:\n",
        "    print(\"Saturday\")\n",
        "  case 7:\n",
        "    print(\"Sunday\")"
      ],
      "metadata": {
        "id": "X8CcJM2eN5ds"
      },
      "execution_count": null,
      "outputs": []
    },
    {
      "cell_type": "code",
      "source": [
        "choice = input(\"Choose a fruit (apple, banana, orange): \")\n",
        "\n",
        "match choice:\n",
        "    case \"apple\":\n",
        "        print(\"You chose an apple\")\n",
        "    case \"banana\":\n",
        "        print(\"You chose a banana\")\n",
        "    case \"orange\":\n",
        "        print(\"You chose an orange\")\n",
        "    case _:\n",
        "        print(\"Unknown choice\")"
      ],
      "metadata": {
        "id": "UFd2vCptGvTF"
      },
      "execution_count": null,
      "outputs": []
    }
  ]
}